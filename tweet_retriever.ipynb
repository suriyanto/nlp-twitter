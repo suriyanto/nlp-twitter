{
 "cells": [
  {
   "cell_type": "code",
   "execution_count": null,
   "id": "random-columbus",
   "metadata": {},
   "outputs": [],
   "source": [
    "# tweepy is a python wrapper around Twitter API\n",
    "from tweepy import Stream\n",
    "from tweepy import OAuthHandler\n",
    "from tweepy import API\n",
    "from tweepy.streaming import StreamListener\n",
    "import json\n",
    "import pandas as pd\n",
    "import csv\n",
    "import re #regular expression\n",
    "\n",
    "import string\n",
    "import sys\n",
    "#import preprocessor as p\n",
    "\n",
    "import pymongo"
   ]
  },
  {
   "cell_type": "code",
   "execution_count": null,
   "id": "hindu-indication",
   "metadata": {},
   "outputs": [],
   "source": [
    "config_file = \".mongodb.json\"\n",
    "with open(config_file) as fh:\n",
    "    mc = json.load(fh)\n",
    "\n",
    "client = pymongo.MongoClient(f\"{mc['scheme']}://{mc['login']}:{mc['password']}@{mc['url']}\")\n",
    "db = client.nlp_twitter\n",
    "print(db.list_collection_names())\n",
    "tweets = db.tweets"
   ]
  },
  {
   "cell_type": "code",
   "execution_count": null,
   "id": "closed-crowd",
   "metadata": {},
   "outputs": [],
   "source": [
    "class StreamListener(StreamListener):\n",
    "    def on_status (self, status):\n",
    "#         print(status._json)\n",
    "        tweets.insert_one(status._json)\n",
    "        print('.')\n",
    "#         print(status.id_str)\n",
    "#         print(status.text)\n",
    "\n",
    "            \n",
    "    def on_error(self, status_code):\n",
    "        print(\"Encountered an error during streaming: \", status_code)\n",
    "        sys.exit()"
   ]
  },
  {
   "cell_type": "code",
   "execution_count": null,
   "id": "administrative-aruba",
   "metadata": {},
   "outputs": [],
   "source": [
    "if __name__ == \"__main__\":\n",
    "    \n",
    "    # twitter credentials are saved in the .tweepy.json file as a dictionary\n",
    "    \n",
    "    config_file = \".tweepy.json\"\n",
    "    with open(config_file) as fh:\n",
    "        config = json.load(fh)\n",
    "    \"\"\"\n",
    "    {\"access_token\"        : '...',\n",
    "    \"access_token_secret\"  : '...'\n",
    "    \"consumer_key\"       :  '...'\n",
    "    \"consumer_secret\"     : '...'}\n",
    "    \"\"\"\n",
    "    # pass twitter credentials to tweepy, complete authorization and initialize API endpoint\n",
    "    \n",
    "    auth = OAuthHandler(config['consumer_key'], config['consumer_secret'])\n",
    "    auth.set_access_token(config['access_token'], config['access_token_secret'])\n",
    "    \"\"\"\n",
    "    auth = OAuthHandler(consumer_key, consumer_secret)\n",
    "    auth.set_access_token(access_token, access_token_secret)\n",
    "    \"\"\"\n",
    "    api = API(auth)\n",
    "    \n",
    "    # using update_status of api, you can tweet to your twitter account from your code\n",
    "    # tweet = api.update_status(\"Tweeting from the code again in the middle of the night!\")\n",
    "    # initialize stream\n",
    "    streamListener = StreamListener()\n",
    "    stream = Stream(auth = api.auth, listener = streamListener, tweed_mode = 'extended', verify=False)\n",
    "    \n",
    "    tracklist = ['corona', 'covid19']\n",
    "    stream.filter(track = tracklist)"
   ]
  },
  {
   "cell_type": "code",
   "execution_count": null,
   "id": "double-landscape",
   "metadata": {},
   "outputs": [],
   "source": []
  }
 ],
 "metadata": {
  "kernelspec": {
   "display_name": "Python 3",
   "language": "python",
   "name": "python3"
  },
  "language_info": {
   "codemirror_mode": {
    "name": "ipython",
    "version": 3
   },
   "file_extension": ".py",
   "mimetype": "text/x-python",
   "name": "python",
   "nbconvert_exporter": "python",
   "pygments_lexer": "ipython3",
   "version": "3.8.2"
  }
 },
 "nbformat": 4,
 "nbformat_minor": 5
}
